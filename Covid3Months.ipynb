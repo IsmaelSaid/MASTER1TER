{
 "cells": [
  {
   "cell_type": "code",
   "execution_count": 1,
   "id": "c426d738",
   "metadata": {},
   "outputs": [],
   "source": [
    "# !pip3 install tsfresh \n",
    "# !pip3 install tensorflow"
   ]
  },
  {
   "cell_type": "markdown",
   "id": "e63ebaf8",
   "metadata": {},
   "source": [
    "# Chargement des données & transformations"
   ]
  },
  {
   "cell_type": "code",
   "execution_count": 4,
   "id": "c1f93d01",
   "metadata": {},
   "outputs": [],
   "source": [
    "from sklearn.model_selection import train_test_split \n",
    "from tsfresh import *\n",
    "from tsfresh.feature_extraction import extract_features, MinimalFCParameters\n",
    "from tsfresh.utilities.dataframe_functions import add_sub_time_series_index\n",
    "from utils.data_loader import load_from_tsfile_to_dataframe\n",
    "from utils.data_processor import *\n",
    "from utils.regressor import create_regressor \n",
    "from utils.regressor_tools import *\n",
    "from utils.regressor_tools import process_data\n",
    "from utils.tools import create_directory,min_len\n",
    "from utils.regressor import create_regressor\n",
    "import matplotlib.pyplot as plt\n",
    "import numpy as np\n",
    "import os\n",
    "import pandas as pd \n",
    "import seaborn as sns\n",
    "from sklearn.model_selection import train_test_split,GridSearchCV\n",
    "from sklearn.ensemble import RandomForestRegressor\n",
    "from utils.ts_tools import tsfresh_format,transform_data\n",
    "from utils.regressor_tools import process_data\n",
    "from utils.experience import Experience"
   ]
  },
  {
   "cell_type": "markdown",
   "id": "35d908dc",
   "metadata": {},
   "source": [
    "Rows The time series has 8 dimensions which consists of hourly averaged responses from an array of 5 metal oxide chemical sensors embedded in an Air Quality Chemical Multisensor Device, as well as temperature, relative humidity and absolute humidity."
   ]
  },
  {
   "cell_type": "code",
   "execution_count": 5,
   "id": "080b27a7",
   "metadata": {},
   "outputs": [
    {
     "name": "stderr",
     "output_type": "stream",
     "text": [
      "153it [00:00, 3809.13it/s]\n",
      "74it [00:00, 3673.94it/s]\n"
     ]
    }
   ],
   "source": [
    "X_train, y_train = load_from_tsfile_to_dataframe(\"data/Covid3Month_TRAIN.ts\")\n",
    "X_test, y_test = load_from_tsfile_to_dataframe(\"data/Covid3Month_TEST.ts\")\n",
    "_X = pd.concat([X_train,X_test],axis=0)\n",
    "_Y = pd.concat([pd.Series(y_train),pd.Series(y_test)],axis=0)\n",
    "\n"
   ]
  },
  {
   "cell_type": "markdown",
   "id": "3bd4c98d",
   "metadata": {},
   "source": [
    " # Descrition des données "
   ]
  },
  {
   "cell_type": "code",
   "execution_count": 6,
   "id": "b051654a",
   "metadata": {},
   "outputs": [],
   "source": [
    "# Dataset Information\n",
    "# The goal of this dataset is to predict COVID-19's death rate on 1st April 2020 for each country using daily confirmed cases for the last three months.\n",
    "# This dataset contains 201 time series, where each time series is the daily confirmed cases for a country.\n",
    "# The data was obtained from WHO's COVID-19 database."
   ]
  },
  {
   "cell_type": "markdown",
   "id": "65071e51",
   "metadata": {},
   "source": [
    "# Visualisation"
   ]
  },
  {
   "cell_type": "markdown",
   "id": "9631f816",
   "metadata": {},
   "source": [
    "# Modele "
   ]
  },
  {
   "cell_type": "code",
   "execution_count": 7,
   "id": "7c755cd5",
   "metadata": {},
   "outputs": [],
   "source": [
    "import tsfel"
   ]
  },
  {
   "cell_type": "code",
   "execution_count": 9,
   "id": "ca3a8ec7",
   "metadata": {},
   "outputs": [],
   "source": [
    "reg = ['random_forest','SVR']\n",
    "\n",
    "Exp  = Experience(\n",
    "    nom_probleme=\"benzene\",\n",
    "    x = _X,\n",
    "    y = _Y,\n",
    "    regresseurs =  reg ,\n",
    "    dossier_sortie = \"default\"\n",
    "    )"
   ]
  },
  {
   "cell_type": "code",
   "execution_count": 22,
   "id": "b6a06ee0",
   "metadata": {},
   "outputs": [
    {
     "name": "stdout",
     "output_type": "stream",
     "text": [
      "*** Feature extraction started ***\n",
      "60\n"
     ]
    },
    {
     "name": "stderr",
     "output_type": "stream",
     "text": [
      "C:\\Users\\Etudiant\\AppData\\Local\\Temp/ipykernel_14048/3357041056.py:3: UserWarning: Using default sampling frequency set in configuration file.\n",
      "  X = tsfel.time_series_features_extractor(cfg, Exp.og_x)\n"
     ]
    },
    {
     "data": {
      "text/html": [
       "\n",
       "              <p>\n",
       "                  Progress: 1% Complete\n",
       "              <p/>            \n",
       "              <progress\n",
       "                  value='1'\n",
       "                  max='60',\n",
       "                  style='width: 25%',\n",
       "              >\n",
       "                  1\n",
       "              </progress>\n",
       "\n",
       "    "
      ],
      "text/plain": [
       "<IPython.core.display.HTML object>"
      ]
     },
     "metadata": {},
     "output_type": "display_data"
    },
    {
     "ename": "ValueError",
     "evalue": "setting an array element with a sequence.",
     "output_type": "error",
     "traceback": [
      "\u001b[1;31m---------------------------------------------------------------------------\u001b[0m",
      "\u001b[1;31mTypeError\u001b[0m                                 Traceback (most recent call last)",
      "\u001b[1;32m~\\anaconda3\\lib\\site-packages\\pandas\\core\\series.py\u001b[0m in \u001b[0;36mwrapper\u001b[1;34m(self)\u001b[0m\n\u001b[0;32m    184\u001b[0m             \u001b[1;32mreturn\u001b[0m \u001b[0mconverter\u001b[0m\u001b[1;33m(\u001b[0m\u001b[0mself\u001b[0m\u001b[1;33m.\u001b[0m\u001b[0miloc\u001b[0m\u001b[1;33m[\u001b[0m\u001b[1;36m0\u001b[0m\u001b[1;33m]\u001b[0m\u001b[1;33m)\u001b[0m\u001b[1;33m\u001b[0m\u001b[1;33m\u001b[0m\u001b[0m\n\u001b[1;32m--> 185\u001b[1;33m         \u001b[1;32mraise\u001b[0m \u001b[0mTypeError\u001b[0m\u001b[1;33m(\u001b[0m\u001b[1;34mf\"cannot convert the series to {converter}\"\u001b[0m\u001b[1;33m)\u001b[0m\u001b[1;33m\u001b[0m\u001b[1;33m\u001b[0m\u001b[0m\n\u001b[0m\u001b[0;32m    186\u001b[0m \u001b[1;33m\u001b[0m\u001b[0m\n",
      "\u001b[1;31mTypeError\u001b[0m: cannot convert the series to <class 'float'>",
      "\nThe above exception was the direct cause of the following exception:\n",
      "\u001b[1;31mValueError\u001b[0m                                Traceback (most recent call last)",
      "\u001b[1;32m~\\AppData\\Local\\Temp/ipykernel_14048/3357041056.py\u001b[0m in \u001b[0;36m<module>\u001b[1;34m\u001b[0m\n\u001b[0;32m      1\u001b[0m \u001b[0mcfg\u001b[0m \u001b[1;33m=\u001b[0m \u001b[0mtsfel\u001b[0m\u001b[1;33m.\u001b[0m\u001b[0mget_features_by_domain\u001b[0m\u001b[1;33m(\u001b[0m\u001b[1;33m)\u001b[0m\u001b[1;33m\u001b[0m\u001b[1;33m\u001b[0m\u001b[0m\n\u001b[0;32m      2\u001b[0m \u001b[1;33m\u001b[0m\u001b[0m\n\u001b[1;32m----> 3\u001b[1;33m \u001b[0mX\u001b[0m \u001b[1;33m=\u001b[0m \u001b[0mtsfel\u001b[0m\u001b[1;33m.\u001b[0m\u001b[0mtime_series_features_extractor\u001b[0m\u001b[1;33m(\u001b[0m\u001b[0mcfg\u001b[0m\u001b[1;33m,\u001b[0m \u001b[0mExp\u001b[0m\u001b[1;33m.\u001b[0m\u001b[0mog_x\u001b[0m\u001b[1;33m)\u001b[0m\u001b[1;33m\u001b[0m\u001b[1;33m\u001b[0m\u001b[0m\n\u001b[0m\u001b[0;32m      4\u001b[0m \u001b[1;33m\u001b[0m\u001b[0m\n\u001b[0;32m      5\u001b[0m \u001b[1;33m\u001b[0m\u001b[0m\n",
      "\u001b[1;32m~\\anaconda3\\lib\\site-packages\\tsfel\\feature_extraction\\calc_features.py\u001b[0m in \u001b[0;36mtime_series_features_extractor\u001b[1;34m(dict_features, signal_windows, fs, verbose, **kwargs)\u001b[0m\n\u001b[0;32m    266\u001b[0m \u001b[1;33m\u001b[0m\u001b[0m\n\u001b[0;32m    267\u001b[0m     \u001b[1;32mif\u001b[0m \u001b[0misinstance\u001b[0m\u001b[1;33m(\u001b[0m\u001b[0msignal_windows\u001b[0m\u001b[1;33m,\u001b[0m \u001b[0mpd\u001b[0m\u001b[1;33m.\u001b[0m\u001b[0mDataFrame\u001b[0m\u001b[1;33m)\u001b[0m\u001b[1;33m:\u001b[0m\u001b[1;33m\u001b[0m\u001b[1;33m\u001b[0m\u001b[0m\n\u001b[1;32m--> 268\u001b[1;33m         features_final = calc_window_features(dict_features, signal_windows, fs, verbose=verbose, single_window=True,\n\u001b[0m\u001b[0;32m    269\u001b[0m                                               \u001b[0mfeatures_path\u001b[0m\u001b[1;33m=\u001b[0m\u001b[0mfeatures_path\u001b[0m\u001b[1;33m,\u001b[0m\u001b[1;33m\u001b[0m\u001b[1;33m\u001b[0m\u001b[0m\n\u001b[0;32m    270\u001b[0m                                               header_names=names)\n",
      "\u001b[1;32m~\\anaconda3\\lib\\site-packages\\tsfel\\feature_extraction\\calc_features.py\u001b[0m in \u001b[0;36mcalc_window_features\u001b[1;34m(dict_features, signal_window, fs, verbose, single_window, **kwargs)\u001b[0m\n\u001b[0;32m    438\u001b[0m \u001b[1;33m\u001b[0m\u001b[0m\n\u001b[0;32m    439\u001b[0m                 \u001b[1;31m# To handle object type signals\u001b[0m\u001b[1;33m\u001b[0m\u001b[1;33m\u001b[0m\u001b[0m\n\u001b[1;32m--> 440\u001b[1;33m                 \u001b[0msignal_window\u001b[0m \u001b[1;33m=\u001b[0m \u001b[0mnp\u001b[0m\u001b[1;33m.\u001b[0m\u001b[0marray\u001b[0m\u001b[1;33m(\u001b[0m\u001b[0msignal_window\u001b[0m\u001b[1;33m)\u001b[0m\u001b[1;33m.\u001b[0m\u001b[0mastype\u001b[0m\u001b[1;33m(\u001b[0m\u001b[0mfloat\u001b[0m\u001b[1;33m)\u001b[0m\u001b[1;33m\u001b[0m\u001b[1;33m\u001b[0m\u001b[0m\n\u001b[0m\u001b[0;32m    441\u001b[0m \u001b[1;33m\u001b[0m\u001b[0m\n\u001b[0;32m    442\u001b[0m                 \u001b[1;31m# Name of each column to be concatenate with feature name\u001b[0m\u001b[1;33m\u001b[0m\u001b[1;33m\u001b[0m\u001b[0m\n",
      "\u001b[1;31mValueError\u001b[0m: setting an array element with a sequence."
     ]
    }
   ],
   "source": [
    "cfg = tsfel.get_features_by_domain()\n",
    "\n",
    "X = tsfel.time_series_features_extractor(cfg, Exp.og_x)\n",
    "\n",
    "\n"
   ]
  }
 ],
 "metadata": {
  "kernelspec": {
   "display_name": "Python 3 (ipykernel)",
   "language": "python",
   "name": "python3"
  },
  "language_info": {
   "codemirror_mode": {
    "name": "ipython",
    "version": 3
   },
   "file_extension": ".py",
   "mimetype": "text/x-python",
   "name": "python",
   "nbconvert_exporter": "python",
   "pygments_lexer": "ipython3",
   "version": "3.9.7"
  }
 },
 "nbformat": 4,
 "nbformat_minor": 5
}
