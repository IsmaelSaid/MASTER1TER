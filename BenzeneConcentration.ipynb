{
 "cells": [
  {
   "cell_type": "code",
   "execution_count": 1,
   "id": "c426d738",
   "metadata": {},
   "outputs": [],
   "source": [
    "# !pip3 install tsfresh \n",
    "# !pip3 install tensorflow"
   ]
  },
  {
   "cell_type": "markdown",
   "id": "e63ebaf8",
   "metadata": {},
   "source": [
    "# Chargement des données & transformations"
   ]
  },
  {
   "cell_type": "code",
   "execution_count": 2,
   "id": "c1f93d01",
   "metadata": {},
   "outputs": [],
   "source": [
    "from sklearn.model_selection import train_test_split \n",
    "from tsfresh.feature_extraction import extract_features, MinimalFCParameters\n",
    "from tsfresh.utilities.dataframe_functions import add_sub_time_series_index\n",
    "from utils.data_loader import load_from_tsfile_to_dataframe\n",
    "import matplotlib.pyplot as plt\n",
    "from utils.regressor_tools import process_data\n",
    "from utils.regressor import create_regressor,calculate_metrics\n",
    "from sklearn.ensemble import RandomForestRegressor\n",
    "from utils.tools import min_len\n",
    "from sklearn.model_selection import train_test_split,TimeSeriesSplit,cross_validate,GridSearchCV\n",
    "import numpy as np\n",
    "import os\n",
    "import pandas as pd \n",
    "import seaborn as sns\n",
    "\n",
    "from utils.ts_tools import tsfresh_format,transform_data\n",
    "from sklearn.metrics import mean_absolute_percentage_error,make_scorer\n",
    "\n",
    "from utils.experience import Experience\n",
    "from tsfresh.feature_extraction import MinimalFCParameters,EfficientFCParameters\n",
    "from tsfresh.feature_selection.relevance import calculate_relevance_table\n",
    "from tsfresh.feature_selection import select_features\n",
    "from tsfresh.feature_selection import selection \n",
    "from tsfresh.utilities.dataframe_functions import impute\n",
    "from tsfresh import extract_relevant_features\n",
    "from sklearn.pipeline import Pipeline\n",
    "from tsfresh.transformers import RelevantFeatureAugmenter\n",
    "from tsfresh.transformers import FeatureAugmenter\n",
    "from tsfresh.transformers import FeatureSelector\n",
    "\n",
    "from scipy.stats import kendalltau\n",
    "from sklearn.feature_selection import SelectKBest\n",
    "from sklearn.feature_selection import SelectFdr\n",
    "from sklearn.decomposition import PCA\n",
    "\n",
    "\n",
    "from sklearn.model_selection import cross_val_score\n",
    "\n",
    "import matplotlib.pyplot as plt\n",
    "import seaborn as sns\n",
    "from tsfresh.feature_extraction import extract_features, ComprehensiveFCParameters\n",
    "import tsfresh\n",
    "import tsfel"
   ]
  },
  {
   "cell_type": "markdown",
   "id": "35d908dc",
   "metadata": {},
   "source": [
    "Rows The time series has 8 dimensions which consists of hourly averaged responses from an array of 5 metal oxide chemical sensors embedded in an Air Quality Chemical Multisensor Device, as well as temperature, relative humidity and absolute humidity."
   ]
  },
  {
   "cell_type": "code",
   "execution_count": 3,
   "id": "080b27a7",
   "metadata": {},
   "outputs": [
    {
     "name": "stderr",
     "output_type": "stream",
     "text": [
      "517it [00:11, 43.67it/s]\n",
      "205it [00:04, 49.17it/s]\n"
     ]
    }
   ],
   "source": [
    "X_train, Y_train = load_from_tsfile_to_dataframe(\"data/Sample_TRAIN.ts\")\n",
    "X_test, Y_test = load_from_tsfile_to_dataframe(\"data/Sample_TEST.ts\")"
   ]
  },
  {
   "cell_type": "code",
   "execution_count": 12,
   "id": "aebf05e6",
   "metadata": {},
   "outputs": [
    {
     "name": "stdout",
     "output_type": "stream",
     "text": [
      "TSFRESH format\n"
     ]
    },
    {
     "name": "stderr",
     "output_type": "stream",
     "text": [
      "100%|██████████| 688/688 [00:01<00:00, 514.61it/s]\n",
      "Feature Extraction: 100%|██████████| 10/10 [07:09<00:00, 42.93s/it]\n"
     ]
    }
   ],
   "source": [
    "reg = ['random_forest','SVR']\n",
    "Exp  = Experience(\n",
    "    nom_probleme=\"benzene\",\n",
    "    x = pd.concat([X_train,X_test],axis=0),\n",
    "    y = pd.concat([pd.Series(Y_train),pd.Series(Y_test)],axis=0),\n",
    "    regresseurs =  reg ,\n",
    "    dossier_sortie = \"default\"\n",
    "    )\n",
    "\n",
    "# On précise que cette expérience réalise une extraction de features \n",
    "Exp.changer_config_tsfresh({\n",
    "    'features_extraction' : False,\n",
    "    'choix_features' :ComprehensiveFCParameters()\n",
    "})\n",
    "\n",
    "\n",
    "# Transformation des données de départ pour les rendres utilisables par les regresseurs \n",
    "# Peut réaliser une normalisation (minmax etc..) \n",
    "# Peut remplacer les données de départ par des features extraites\n",
    "Exp.transformation()\n",
    "\n",
    "# Innitialisation des différents regresseurs données en argument\n",
    "Exp.init_regresseurs()\n"
   ]
  }
 ],
 "metadata": {
  "kernelspec": {
   "display_name": "Python 3 (ipykernel)",
   "language": "python",
   "name": "python3"
  },
  "language_info": {
   "codemirror_mode": {
    "name": "ipython",
    "version": 3
   },
   "file_extension": ".py",
   "mimetype": "text/x-python",
   "name": "python",
   "nbconvert_exporter": "python",
   "pygments_lexer": "ipython3",
   "version": "3.10.4"
  }
 },
 "nbformat": 4,
 "nbformat_minor": 5
}
